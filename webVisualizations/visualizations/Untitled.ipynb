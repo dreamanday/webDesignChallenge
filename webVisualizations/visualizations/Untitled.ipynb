{
 "cells": [
  {
   "cell_type": "code",
   "execution_count": 1,
   "metadata": {},
   "outputs": [],
   "source": [
    "import pandas as pd"
   ]
  },
  {
   "cell_type": "code",
   "execution_count": 4,
   "metadata": {},
   "outputs": [],
   "source": [
    "pollution = pd.read_csv('PM2_5_pollution_exposure.csv')"
   ]
  },
  {
   "cell_type": "code",
   "execution_count": 8,
   "metadata": {},
   "outputs": [],
   "source": [
    "pollution_html = pollution.to_html('pollution_html.html')"
   ]
  },
  {
   "cell_type": "code",
   "execution_count": 7,
   "metadata": {},
   "outputs": [
    {
     "data": {
      "text/plain": [
       "<bound method DataFrame.to_html of              Country Macroregion Microregion  \\\n",
       "0          Australia     -Total-     -Total-   \n",
       "1          Australia     -Total-     -Total-   \n",
       "2          Australia     -Total-     -Total-   \n",
       "3          Australia     -Total-     -Total-   \n",
       "4          Australia     -Total-     -Total-   \n",
       "...              ...         ...         ...   \n",
       "7347  Cayman Islands     -Total-     -Total-   \n",
       "7348  Cayman Islands     -Total-     -Total-   \n",
       "7349  Cayman Islands     -Total-     -Total-   \n",
       "7350  Cayman Islands     -Total-     -Total-   \n",
       "7351  Cayman Islands     -Total-     -Total-   \n",
       "\n",
       "                                               Variable  Year  \\\n",
       "0                     Mean population exposure to PM2.5  1990   \n",
       "1                     Mean population exposure to PM2.5  2010   \n",
       "2                     Mean population exposure to PM2.5  2011   \n",
       "3                     Mean population exposure to PM2.5  2012   \n",
       "4                     Mean population exposure to PM2.5  2013   \n",
       "...                                                 ...   ...   \n",
       "7347  Percentage of population exposed to more than ...  2012   \n",
       "7348  Percentage of population exposed to more than ...  2013   \n",
       "7349  Percentage of population exposed to more than ...  2014   \n",
       "7350  Percentage of population exposed to more than ...  2015   \n",
       "7351  Percentage of population exposed to more than ...  2016   \n",
       "\n",
       "                            Unit PowerCode  Reference Period     Value  Flags  \n",
       "0     Micrograms per cubic metre     Units               NaN  10.36402    NaN  \n",
       "1     Micrograms per cubic metre     Units               NaN  10.53559    NaN  \n",
       "2     Micrograms per cubic metre     Units               NaN  10.88267    NaN  \n",
       "3     Micrograms per cubic metre     Units               NaN  10.40148    NaN  \n",
       "4     Micrograms per cubic metre     Units               NaN   9.84329    NaN  \n",
       "...                          ...       ...               ...       ...    ...  \n",
       "7347                  Percentage     Units               NaN   0.00000    NaN  \n",
       "7348                  Percentage     Units               NaN   0.00000    NaN  \n",
       "7349                  Percentage     Units               NaN   0.00000    NaN  \n",
       "7350                  Percentage     Units               NaN   0.00000    NaN  \n",
       "7351                  Percentage     Units               NaN   0.00000    NaN  \n",
       "\n",
       "[7352 rows x 10 columns]>"
      ]
     },
     "execution_count": 7,
     "metadata": {},
     "output_type": "execute_result"
    }
   ],
   "source": [
    "pollution_html"
   ]
  },
  {
   "cell_type": "code",
   "execution_count": null,
   "metadata": {},
   "outputs": [],
   "source": []
  }
 ],
 "metadata": {
  "kernelspec": {
   "display_name": "Python 3",
   "language": "python",
   "name": "python3"
  },
  "language_info": {
   "codemirror_mode": {
    "name": "ipython",
    "version": 3
   },
   "file_extension": ".py",
   "mimetype": "text/x-python",
   "name": "python",
   "nbconvert_exporter": "python",
   "pygments_lexer": "ipython3",
   "version": "3.7.4"
  }
 },
 "nbformat": 4,
 "nbformat_minor": 2
}
